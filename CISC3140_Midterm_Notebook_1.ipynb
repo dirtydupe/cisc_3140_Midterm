{
  "nbformat": 4,
  "nbformat_minor": 0,
  "metadata": {
    "colab": {
      "name": "CISC3140_Midterm_Notebook_1.ipynb",
      "version": "0.3.2",
      "provenance": [],
      "collapsed_sections": [],
      "include_colab_link": true
    },
    "kernelspec": {
      "name": "python3",
      "display_name": "Python 3"
    }
  },
  "cells": [
    {
      "cell_type": "markdown",
      "metadata": {
        "id": "view-in-github",
        "colab_type": "text"
      },
      "source": [
        "<a href=\"https://colab.research.google.com/github/dirtydupe/cisc_3140_Midterm/blob/master/CISC3140_Midterm_Notebook_1.ipynb\" target=\"_parent\"><img src=\"https://colab.research.google.com/assets/colab-badge.svg\" alt=\"Open In Colab\"/></a>"
      ]
    },
    {
      "cell_type": "markdown",
      "metadata": {
        "id": "L04pHn1sg0Ui",
        "colab_type": "text"
      },
      "source": [
        "\n",
        "# Joe Troia - Notebook 1\n",
        "## Dataset: DOHMH New York City Restaurant Inspection Results\n",
        "\n",
        "The objectives in the use of this dataset:\n",
        "\n",
        "1. Calculate number of restaurants per borough (graded and ungraded) and record number of each grade attained per borough.\n",
        "2. Use this in order to find the percentage of each grade per borough as well as\n",
        "3. percentage share of each borough per grade \n",
        "4. Calculate average inspection score per borough (a numerical score in which lower is better)\n",
        "5. Calcualte average number of violations per borough\n",
        "\n",
        "*Note that the restaurants in the dataset can have multiple inspection dates and multiple violations recorded per inspection so there will be duplicate records for restaurants. Only the one grade and score recorded per inspection will count towards the grade totals. Also, not every citation has a grade attached to it so this needs to be taken into account when parsing the records.*\n",
        "\n",
        "In looking to follow the specifications provided by Professor Chuang, many of the problems were tackled with a focus on using list comprehension,  `lambda`  and the following Python functions:\n",
        "* `map()`\n",
        "* `reduce()`\n",
        "* `filter()`\n",
        "\n",
        "### Inspection Grades:\n",
        "*  **A** \n",
        "*  **B**\n",
        "*  **C**\n",
        "*  **P** - Grade Pending\n",
        "*  **Z** - Grade Pending issued on re-opening following an initial inspection that resulted in a closure\n",
        "*  **N** - Not Yet Graded\n",
        "\n",
        "\n",
        "\n",
        "\n",
        "\n",
        "\n",
        "\n",
        "\n"
      ]
    },
    {
      "cell_type": "markdown",
      "metadata": {
        "id": "QkzNb5RAFLF4",
        "colab_type": "text"
      },
      "source": [
        "Importing required libraries:"
      ]
    },
    {
      "cell_type": "code",
      "metadata": {
        "id": "XWJLe9LRgluv",
        "colab_type": "code",
        "colab": {}
      },
      "source": [
        "import functools\n",
        "import json\n",
        "import urllib.request"
      ],
      "execution_count": 0,
      "outputs": []
    },
    {
      "cell_type": "markdown",
      "metadata": {
        "id": "CzAbMCF5FbZy",
        "colab_type": "text"
      },
      "source": [
        "The API endpoint of the data to be examined is at https://data.cityofnewyork.us/resource/43nn-pn8j.json\n",
        "\n",
        "By default, this will return only 1000 results so we'll pass the query parameters `$limit=100000&$offset=0` so that the json returned will contain many, but not all, of the elements in the dataset.\n",
        "\n",
        "Collaboratory seems to hang up when trying to process all 380,000+ elements in the data; so this compromise needs to be made."
      ]
    },
    {
      "cell_type": "code",
      "metadata": {
        "id": "a_7Ldrxr1nJx",
        "colab_type": "code",
        "colab": {}
      },
      "source": [
        "url = \"https://data.cityofnewyork.us/resource/43nn-pn8j.json?$limit=100000&$offset=0\""
      ],
      "execution_count": 0,
      "outputs": []
    },
    {
      "cell_type": "markdown",
      "metadata": {
        "id": "qO3jbvWQkU34",
        "colab_type": "text"
      },
      "source": [
        "Opening the URL and reading the Response object, then putting the json string into the list `data`"
      ]
    },
    {
      "cell_type": "code",
      "metadata": {
        "id": "_eSifzuLeQF6",
        "colab_type": "code",
        "colab": {}
      },
      "source": [
        "response = urllib.request.urlopen(url)\n",
        "jsonObj = response.read()\n",
        "data = json.loads(jsonObj)"
      ],
      "execution_count": 0,
      "outputs": []
    },
    {
      "cell_type": "markdown",
      "metadata": {
        "id": "pKpCOR2Kl4W5",
        "colab_type": "text"
      },
      "source": [
        "Checking the total number of elements in the list"
      ]
    },
    {
      "cell_type": "code",
      "metadata": {
        "id": "6Z5bHzjzBVi4",
        "colab_type": "code",
        "outputId": "c05f9cb3-e316-431c-9c65-9cae1711800a",
        "colab": {
          "base_uri": "https://localhost:8080/",
          "height": 34
        }
      },
      "source": [
        "dataSize = len(data)\n",
        "print(dataSize)"
      ],
      "execution_count": 184,
      "outputs": [
        {
          "output_type": "stream",
          "text": [
            "100000\n"
          ],
          "name": "stdout"
        }
      ]
    },
    {
      "cell_type": "markdown",
      "metadata": {
        "id": "OWrjvbxt6Oil",
        "colab_type": "text"
      },
      "source": [
        "Defining an Inspection class and a Restaurant class to hold accumulator fields and other data that will allow us to make the final calculations.\n",
        "\n",
        "*Aside: \"Restaurant\" is one of those words that look weird when you spell it out, amirite?*"
      ]
    },
    {
      "cell_type": "code",
      "metadata": {
        "id": "C16zEzGV6PkM",
        "colab_type": "code",
        "colab": {}
      },
      "source": [
        "class Inspection():\n",
        "      def __init__(self):\n",
        "          self.date = \"\"\n",
        "          self.grade = \"\"\n",
        "          self.score = 0\n",
        "          self.numViolations = 0\n",
        "          \n",
        "      def incrViolations(self):\n",
        "        self.numViolations += 1\n",
        "      \n",
        "\n",
        "class Restaurant():\n",
        "      def __init__(self):\n",
        "          self.inspections = {}\n",
        "          self.camis = \"\""
      ],
      "execution_count": 0,
      "outputs": []
    },
    {
      "cell_type": "markdown",
      "metadata": {
        "id": "LjVo1wRUJwz2",
        "colab_type": "text"
      },
      "source": [
        "Here I'm defining a Borough class which will contain fields and methods which will manipulate and aggregate data for each borough including a list of Restaurant objects belonging to each."
      ]
    },
    {
      "cell_type": "code",
      "metadata": {
        "id": "la_JF8apXGk4",
        "colab_type": "code",
        "colab": {}
      },
      "source": [
        "class Borough():\n",
        "    def __init__(self, name):\n",
        "        self.name = name\n",
        "        self.restaurants = {}\n",
        "        self.allCitations = []\n",
        "        \n",
        "    def addRestaurant(self, camis, restaurant):\n",
        "        self.restaurants[camis] = restaurant\n",
        "        \n",
        "    def isNewRestaurant(self, camis):\n",
        "        if camis in self.restaurants:\n",
        "            return False\n",
        "        \n",
        "        return True"
      ],
      "execution_count": 0,
      "outputs": []
    },
    {
      "cell_type": "markdown",
      "metadata": {
        "id": "GHz_LBV2rLZ6",
        "colab_type": "text"
      },
      "source": [
        "These static fuctions will parse out ungraded citations so we have a clean list of graded records "
      ]
    },
    {
      "cell_type": "code",
      "metadata": {
        "id": "HS7vBrX0s5so",
        "colab_type": "code",
        "colab": {}
      },
      "source": [
        "def isGraded(record):\n",
        "    if 'grade' in record:\n",
        "        return True\n",
        "    \n",
        "    return False\n",
        "      \n",
        "def accumulateGraded(list):  #need to change method\n",
        "    gradedList = []\n",
        "    i = 0\n",
        "    \n",
        "    for record in list:\n",
        "      if isGraded(list[i]):\n",
        "          gradedList.append(list[i])\n",
        "          \n",
        "      i += 1\n",
        "          \n",
        "    return gradedList"
      ],
      "execution_count": 0,
      "outputs": []
    },
    {
      "cell_type": "markdown",
      "metadata": {
        "id": "qUz2Pu3VfB7E",
        "colab_type": "text"
      },
      "source": [
        "Instantiating an object for each borough and putting them into the `boroughs` list \n",
        "* The lambda function is defined to call `Borough`'s constructor\n",
        "* List comprehension is used to create the list of `Borough` objects"
      ]
    },
    {
      "cell_type": "code",
      "metadata": {
        "colab_type": "code",
        "id": "R9U5WCEMRvuO",
        "outputId": "2c717f30-d1f7-4329-9f2e-ac9c149cb152",
        "colab": {
          "base_uri": "https://localhost:8080/",
          "height": 105
        }
      },
      "source": [
        "constructBoroughs = lambda x: Borough(x)\n",
        "\n",
        "boroughs = [\"Brooklyn\", \"Manhattan\", \"Queens\", \"Bronx\", \"Staten Island\"]\n",
        "boroughs = [constructBoroughs(b) for b in boroughs]\n",
        "\n",
        "for b in boroughs:\n",
        "    print(b.name)"
      ],
      "execution_count": 202,
      "outputs": [
        {
          "output_type": "stream",
          "text": [
            "Brooklyn\n",
            "Manhattan\n",
            "Queens\n",
            "Bronx\n",
            "Staten Island\n"
          ],
          "name": "stdout"
        }
      ]
    },
    {
      "cell_type": "markdown",
      "metadata": {
        "id": "BV00wT5DnGLf",
        "colab_type": "text"
      },
      "source": [
        "Using `map()` I call a function that itself calls `filter()` on the bulk data.  This will filter `data` based on the borough field. The resulting list is stored in the current borough object's `allCItations` field.                               "
      ]
    },
    {
      "cell_type": "code",
      "metadata": {
        "id": "AiyH5s8GnGa4",
        "colab_type": "code",
        "outputId": "d78f1a56-07e2-4d85-ab34-0eda4dc6a027",
        "colab": {
          "base_uri": "https://localhost:8080/",
          "height": 122
        }
      },
      "source": [
        "def buildCitationLists(borough):\n",
        "      citList = list(filter(lambda x: x['boro'] == borough.name , data))\n",
        "      borough.allCitations = citList\n",
        "      return borough      \n",
        "\n",
        "boroughs = list(map(buildCitationLists, boroughs))\n",
        "\n",
        "print(\"CITATIONS TOTALS\")\n",
        "print(\"Brooklyn:\", len(brooklyn.allCitations))\n",
        "print(\"Manhattan:\", len(manhattan.allCitations))\n",
        "print(\"Queens:\", len(queens.allCitations))\n",
        "print(\"Bronx:\", len(bronx.allCitations))\n",
        "print(\"Staten Island:\", len(statenIsland.allCitations))"
      ],
      "execution_count": 221,
      "outputs": [
        {
          "output_type": "stream",
          "text": [
            "CITATIONS TOTALS\n",
            "Brooklyn: 25504\n",
            "Manhattan: 39509\n",
            "Queens: 22598\n",
            "Bronx: 8978\n",
            "Staten Island: 3383\n"
          ],
          "name": "stdout"
        }
      ]
    },
    {
      "cell_type": "markdown",
      "metadata": {
        "id": "MYERjX8y7swp",
        "colab_type": "text"
      },
      "source": [
        "Using `map()` again, the `restaurants` dictionary of each borough is built. A unique 'camis' id key maps to each unique Restaurant object. Restaurant objects are created for each new camis by testing if the key is present in that `Borough` object's `restaurants` dictionary.\n",
        "\n",
        "Additionally, the details of the citation are entered if it is a new inspection or, if an inspection was already recorded in the `Restaurant` object, the number of violations is incremented if a violation was noted on that line of data."
      ]
    },
    {
      "cell_type": "code",
      "metadata": {
        "id": "JD436luFs4Aa",
        "colab_type": "code",
        "colab": {
          "base_uri": "https://localhost:8080/",
          "height": 122
        },
        "outputId": "ad7b8687-b78d-4f64-d77a-578d30523c8d"
      },
      "source": [
        "def buildRestaurantDicts(record, borough):    \n",
        "      if borough.isNewRestaurant(record['camis']):\n",
        "          restaurant = Restaurant()\n",
        "          restaurant.camis = record['camis']      \n",
        "          borough.addRestaurant(record['camis'], restaurant)\n",
        " \n",
        "      if record['inspection_date'] in borough.restaurants[record['camis']].inspections:\n",
        "          if 'violation_code' in record:\n",
        "              borough.restaurants[record['camis']].inspections[record['inspection_date']].incrViolations()\n",
        "      else:\n",
        "          inspection = Inspection()\n",
        "          inspection.date = record['inspection_date']\n",
        "          \n",
        "          if 'grade' in record:\n",
        "              inspection.grade = record['grade']\n",
        "          \n",
        "          if 'score' in record:\n",
        "              inspection.score = record['score']\n",
        "            \n",
        "          if 'violation_code' in record:\n",
        "              inspection.numViolations = 1\n",
        "          \n",
        "          borough.restaurants[record['camis']].inspections[record['inspection_date']] = inspection\n",
        "          \n",
        "          \n",
        "def buildBoroughObjects(borough):       \n",
        "      for record in borough.allCitations:\n",
        "          buildRestaurantDicts(record, borough)\n",
        "\n",
        "      return borough\n",
        "\n",
        "boroughs = list(map(buildBoroughObjects, boroughs))\n",
        "\n",
        "print(\"RESTAURANTS PER BOROUGH\")\n",
        "print(\"Brooklyn:\", len(boroughs[0].restaurants))\n",
        "print(\"Manhattan:\", len(boroughs[1].restaurants))\n",
        "print(\"Queens:\", len(boroughs[2].restaurants))\n",
        "print(\"Bronx:\", len(boroughs[3].restaurants))\n",
        "print(\"Staten Island:\", len(boroughs[4].restaurants))"
      ],
      "execution_count": 220,
      "outputs": [
        {
          "output_type": "stream",
          "text": [
            "RESTAURANTS PER BOROUGH\n",
            "Brooklyn: 5844\n",
            "Manhattan:  9233\n",
            "Queens:  5286\n",
            "Bronx:  2120\n",
            "Staten Island:  843\n"
          ],
          "name": "stdout"
        }
      ]
    },
    {
      "cell_type": "markdown",
      "metadata": {
        "id": "trPMUTnSUQds",
        "colab_type": "text"
      },
      "source": [
        "Find number of grades per borough:\n",
        "* Total number of grades given\n",
        "* Number of each grade attained"
      ]
    },
    {
      "cell_type": "code",
      "metadata": {
        "id": "QHiPGNjAUVhQ",
        "colab_type": "code",
        "colab": {}
      },
      "source": [
        ""
      ],
      "execution_count": 0,
      "outputs": []
    },
    {
      "cell_type": "markdown",
      "metadata": {
        "id": "DWNgJMlVdjUe",
        "colab_type": "text"
      },
      "source": [
        "Total inspection scores and find average for each borough"
      ]
    },
    {
      "cell_type": "code",
      "metadata": {
        "id": "PzjccbCMdj8Q",
        "colab_type": "code",
        "colab": {}
      },
      "source": [
        ""
      ],
      "execution_count": 0,
      "outputs": []
    },
    {
      "cell_type": "markdown",
      "metadata": {
        "id": "LBsTuh41d0YC",
        "colab_type": "text"
      },
      "source": [
        "Add number of violations and divide by number of restaurants for each borough"
      ]
    },
    {
      "cell_type": "code",
      "metadata": {
        "id": "FAq2-c_Bd1Dv",
        "colab_type": "code",
        "colab": {}
      },
      "source": [
        ""
      ],
      "execution_count": 0,
      "outputs": []
    },
    {
      "cell_type": "code",
      "metadata": {
        "id": "9m-bSlxwVupJ",
        "colab_type": "code",
        "outputId": "22933d0c-718c-42bd-cbfd-3f31df58145d",
        "colab": {
          "base_uri": "https://localhost:8080/",
          "height": 34
        }
      },
      "source": [
        "gradedRecords = accumulateGraded(data)\n",
        "totalGradedRecords = len(gradedRecords)\n",
        "print(totalGradedRecords)"
      ],
      "execution_count": 215,
      "outputs": [
        {
          "output_type": "stream",
          "text": [
            "50740\n"
          ],
          "name": "stdout"
        }
      ]
    },
    {
      "cell_type": "markdown",
      "metadata": {
        "id": "ow0LNeJ0VVwE",
        "colab_type": "text"
      },
      "source": [
        "It was a challenge for me to break out of the object-oriented way of thinking. In writing the code, I felt like I was iterating through the original dataset many more times than I would have if I'd followed a programming style that I was more familiar with.  I found myself breaking the flow of the program into more numerous, yet admittedly more succinct, parts in order to fulfill the spec."
      ]
    }
  ]
}