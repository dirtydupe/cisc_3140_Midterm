{
  "nbformat": 4,
  "nbformat_minor": 0,
  "metadata": {
    "colab": {
      "name": "CISC3140_Midterm_Notebook_1.ipynb",
      "version": "0.3.2",
      "provenance": [],
      "collapsed_sections": [],
      "include_colab_link": true
    },
    "kernelspec": {
      "name": "python3",
      "display_name": "Python 3"
    }
  },
  "cells": [
    {
      "cell_type": "markdown",
      "metadata": {
        "id": "view-in-github",
        "colab_type": "text"
      },
      "source": [
        "<a href=\"https://colab.research.google.com/github/dirtydupe/cisc_3140_Midterm/blob/master/CISC3140_Midterm_Notebook_1.ipynb\" target=\"_parent\"><img src=\"https://colab.research.google.com/assets/colab-badge.svg\" alt=\"Open In Colab\"/></a>"
      ]
    },
    {
      "cell_type": "markdown",
      "metadata": {
        "id": "L04pHn1sg0Ui",
        "colab_type": "text"
      },
      "source": [
        "\n",
        "# Joe Troia - Notebook 1\n",
        "## Dataset: DOHMH New York City Restaurant Inspection Results\n",
        "\n",
        "The objectives in the use of this dataset:\n",
        "\n",
        "1. Calculate number of restaurants per borough (graded and ungraded) and record number of each grade attained per borough.\n",
        "2. Use this in order to find the percentage share of each grade per borough\n",
        "3. Calcualate average number of violations per restaurant per borough\n",
        "\n",
        "*Note that the restaurants in the dataset can have multiple inspection dates and multiple violations recorded per inspection so there will be duplicate records for restaurants. Only the one grade and score recorded per inspection will count towards the grade totals. Also, not every citation has a grade attached to it so this needs to be taken into account when parsing the records.*\n",
        "\n",
        "In looking to follow the specifications provided by Professor Chuang, many of the problems were tackled with a focus on using list comprehension,  `lambda`  and the following Python functions:\n",
        "* `map()`\n",
        "* `reduce()`\n",
        "* `filter()`\n",
        "\n",
        "### Inspection Grades:\n",
        "*  **A** \n",
        "*  **B**\n",
        "*  **C**\n",
        "*  **P** - Grade Pending\n",
        "*  **Z** - Grade Pending issued on re-opening following an initial inspection that resulted in a closure\n",
        "*  **N** - Not Yet Graded\n",
        "\n",
        "\n",
        "\n",
        "\n",
        "\n",
        "\n",
        "\n",
        "\n"
      ]
    },
    {
      "cell_type": "markdown",
      "metadata": {
        "id": "QkzNb5RAFLF4",
        "colab_type": "text"
      },
      "source": [
        "Importing required libraries:"
      ]
    },
    {
      "cell_type": "code",
      "metadata": {
        "id": "XWJLe9LRgluv",
        "colab_type": "code",
        "colab": {}
      },
      "source": [
        "from functools import reduce\n",
        "import json\n",
        "import urllib.request"
      ],
      "execution_count": 0,
      "outputs": []
    },
    {
      "cell_type": "markdown",
      "metadata": {
        "id": "CzAbMCF5FbZy",
        "colab_type": "text"
      },
      "source": [
        "The API endpoint of the data to be examined is at https://data.cityofnewyork.us/resource/43nn-pn8j.json\n",
        "\n",
        "By default, this will return only 1000 results so we'll pass the query parameters `$limit=400000&$offset=0` so that the json returned will contain all of the elements in the dataset."
      ]
    },
    {
      "cell_type": "code",
      "metadata": {
        "id": "a_7Ldrxr1nJx",
        "colab_type": "code",
        "colab": {}
      },
      "source": [
        "url = \"https://data.cityofnewyork.us/resource/43nn-pn8j.json?$limit=400000&$offset=0\""
      ],
      "execution_count": 0,
      "outputs": []
    },
    {
      "cell_type": "markdown",
      "metadata": {
        "id": "qO3jbvWQkU34",
        "colab_type": "text"
      },
      "source": [
        "Opening the URL and reading the Response object, then putting the json string into the list `data`"
      ]
    },
    {
      "cell_type": "code",
      "metadata": {
        "id": "_eSifzuLeQF6",
        "colab_type": "code",
        "colab": {}
      },
      "source": [
        "response = urllib.request.urlopen(url)\n",
        "jsonObj = response.read()\n",
        "data = json.loads(jsonObj)"
      ],
      "execution_count": 0,
      "outputs": []
    },
    {
      "cell_type": "markdown",
      "metadata": {
        "id": "pKpCOR2Kl4W5",
        "colab_type": "text"
      },
      "source": [
        "Checking the total number of elements in the list"
      ]
    },
    {
      "cell_type": "code",
      "metadata": {
        "id": "6Z5bHzjzBVi4",
        "colab_type": "code",
        "outputId": "d04c0809-457e-4f88-d3f6-1829d4e0fa5f",
        "colab": {
          "base_uri": "https://localhost:8080/",
          "height": 34
        }
      },
      "source": [
        "dataSize = len(data)\n",
        "print(dataSize)"
      ],
      "execution_count": 68,
      "outputs": [
        {
          "output_type": "stream",
          "text": [
            "386321\n"
          ],
          "name": "stdout"
        }
      ]
    },
    {
      "cell_type": "markdown",
      "metadata": {
        "id": "OWrjvbxt6Oil",
        "colab_type": "text"
      },
      "source": [
        "Defining an Inspection class and a Restaurant class to hold accumulator fields and other data that will allow us to make the final calculations.\n",
        "\n",
        "* The `inspections` dictionary maps dates to `Inspection` objects\n",
        "\n",
        "*Aside: \"Restaurant\" is one of those words that look weird when you spell it out, amirite?*"
      ]
    },
    {
      "cell_type": "code",
      "metadata": {
        "id": "C16zEzGV6PkM",
        "colab_type": "code",
        "colab": {}
      },
      "source": [
        "class Inspection():\n",
        "      def __init__(self):\n",
        "          self.date = \"\"\n",
        "          self.grade = \"\"\n",
        "          self.score = 0\n",
        "          self.numViolations = 0\n",
        "          \n",
        "      def incrViolations(self):\n",
        "        self.numViolations += 1\n",
        "      \n",
        "\n",
        "class Restaurant():\n",
        "      def __init__(self):\n",
        "          self.inspections = {}\n",
        "          self.camis = \"\""
      ],
      "execution_count": 0,
      "outputs": []
    },
    {
      "cell_type": "markdown",
      "metadata": {
        "id": "LjVo1wRUJwz2",
        "colab_type": "text"
      },
      "source": [
        "Here I'm defining a Borough class which will contain fields and methods which will manipulate and aggregate data for each borough including a list of Restaurant objects belonging to each.\n",
        " * The `restaurant` dictionary maps camis ids to `Restaurant` objects"
      ]
    },
    {
      "cell_type": "code",
      "metadata": {
        "id": "la_JF8apXGk4",
        "colab_type": "code",
        "colab": {}
      },
      "source": [
        "class Borough():\n",
        "    def __init__(self, name):\n",
        "        self.name = name\n",
        "        self.restaurants = {}\n",
        "        self.allCitations = []\n",
        "        self.allGrades = []\n",
        "        self.num_A = 0\n",
        "        self.num_B = 0\n",
        "        self.num_C = 0\n",
        "        self.num_P = 0\n",
        "        self.num_Z = 0\n",
        "        self.num_N = 0\n",
        "        self.totalRest = 0\n",
        "        self.totalCitations = 0\n",
        "        self.totalViolations = 0\n",
        "        \n",
        "    def addRestaurant(self, camis, restaurant):\n",
        "        self.restaurants[camis] = restaurant\n",
        "        \n",
        "    def isNewRestaurant(self, camis):\n",
        "        if camis in self.restaurants:\n",
        "            return False\n",
        "        \n",
        "        return True"
      ],
      "execution_count": 0,
      "outputs": []
    },
    {
      "cell_type": "markdown",
      "metadata": {
        "id": "qUz2Pu3VfB7E",
        "colab_type": "text"
      },
      "source": [
        "Instantiating an object for each borough and putting them into the `boroughs` list \n",
        "* The lambda function is defined to call `Borough`'s constructor\n",
        "* List comprehension is used to create the list of `Borough` objects"
      ]
    },
    {
      "cell_type": "code",
      "metadata": {
        "colab_type": "code",
        "id": "R9U5WCEMRvuO",
        "outputId": "b8394a31-01d2-46db-8be8-28b0d9e02cea",
        "colab": {
          "base_uri": "https://localhost:8080/",
          "height": 105
        }
      },
      "source": [
        "constructBoroughs = lambda x: Borough(x)\n",
        "\n",
        "boroughs = [\"Brooklyn\", \"Manhattan\", \"Queens\", \"Bronx\", \"Staten Island\"]\n",
        "boroughs = [constructBoroughs(b) for b in boroughs]\n",
        "\n",
        "for b in boroughs:\n",
        "    print(b.name)"
      ],
      "execution_count": 71,
      "outputs": [
        {
          "output_type": "stream",
          "text": [
            "Brooklyn\n",
            "Manhattan\n",
            "Queens\n",
            "Bronx\n",
            "Staten Island\n"
          ],
          "name": "stdout"
        }
      ]
    },
    {
      "cell_type": "markdown",
      "metadata": {
        "id": "BV00wT5DnGLf",
        "colab_type": "text"
      },
      "source": [
        "Using `map()`, I call a function that itself calls `filter()` on the bulk data.  This will filter `data` based on the borough field. The resulting list is stored in the current borough object's `allCitations` field.                               \n",
        "\n",
        "Citations refers to each individual data row in the dataset."
      ]
    },
    {
      "cell_type": "code",
      "metadata": {
        "id": "AiyH5s8GnGa4",
        "colab_type": "code",
        "outputId": "1d6bb40b-6570-40cf-b411-9c09710af462",
        "colab": {
          "base_uri": "https://localhost:8080/",
          "height": 122
        }
      },
      "source": [
        "def buildCitationLists(borough):\n",
        "      citList = list(filter(lambda x: x['boro'] == borough.name , data))\n",
        "      borough.allCitations = citList\n",
        "      return borough      \n",
        "\n",
        "boroughs = list(map(buildCitationLists, boroughs))\n",
        "\n",
        "boroughs[0].totalCitations = len(boroughs[0].allCitations)\n",
        "boroughs[1].totalCitations = len(boroughs[1].allCitations)\n",
        "boroughs[2].totalCitations = len(boroughs[2].allCitations)\n",
        "boroughs[3].totalCitations = len(boroughs[3].allCitations)\n",
        "boroughs[4].totalCitations = len(boroughs[4].allCitations)\n",
        "\n",
        "print(\"CITATIONS IN DATASET\")\n",
        "print(\"Brooklyn:\", len(boroughs[0].allCitations))\n",
        "print(\"Manhattan:\", len(boroughs[1].allCitations))\n",
        "print(\"Queens:\", len(boroughs[2].allCitations))\n",
        "print(\"Bronx:\", len(boroughs[3].allCitations))\n",
        "print(\"Staten Island:\", len(boroughs[4].allCitations))"
      ],
      "execution_count": 72,
      "outputs": [
        {
          "output_type": "stream",
          "text": [
            "CITATIONS IN DATASET\n",
            "Brooklyn: 98071\n",
            "Manhattan: 152428\n",
            "Queens: 87787\n",
            "Bronx: 34821\n",
            "Staten Island: 13102\n"
          ],
          "name": "stdout"
        }
      ]
    },
    {
      "cell_type": "markdown",
      "metadata": {
        "id": "MYERjX8y7swp",
        "colab_type": "text"
      },
      "source": [
        "Using `map()` again, the `restaurants` dictionary of each borough is built. A unique 'camis' id key maps to each unique Restaurant object. Restaurant objects are created for each new camis by testing if the key is present in that `Borough` object's `restaurants` dictionary.\n",
        "\n",
        "Additionally, the details of the citation are entered if it is a new inspection or, if an inspection was already recorded in the `Restaurant` object, the number of violations is incremented if a violation was noted on that line of data."
      ]
    },
    {
      "cell_type": "code",
      "metadata": {
        "id": "JD436luFs4Aa",
        "colab_type": "code",
        "outputId": "41ccd2a2-25e0-4f91-b807-6c3be0151f6d",
        "colab": {
          "base_uri": "https://localhost:8080/",
          "height": 122
        }
      },
      "source": [
        "def buildRestaurantDicts(record, borough):    \n",
        "      if borough.isNewRestaurant(record['camis']):\n",
        "          restaurant = Restaurant()\n",
        "          restaurant.camis = record['camis']      \n",
        "          borough.addRestaurant(record['camis'], restaurant)\n",
        " \n",
        "      if record['inspection_date'] in borough.restaurants[record['camis']].inspections:\n",
        "          if 'violation_code' in record:\n",
        "              borough.restaurants[record['camis']].inspections[record['inspection_date']].incrViolations()\n",
        "      else:\n",
        "          inspection = Inspection()\n",
        "          inspection.date = record['inspection_date']\n",
        "          \n",
        "          if 'grade' in record:\n",
        "              inspection.grade = record['grade']\n",
        "              \n",
        "          if 'violation_code' in record:\n",
        "              inspection.numViolations = 1\n",
        "          \n",
        "          borough.restaurants[record['camis']].inspections[record['inspection_date']] = inspection\n",
        "          \n",
        "          \n",
        "def buildBoroughObjects(borough):       \n",
        "      for record in borough.allCitations:\n",
        "          buildRestaurantDicts(record, borough)\n",
        "\n",
        "      return borough\n",
        "\n",
        "boroughs = list(map(buildBoroughObjects, boroughs))\n",
        "\n",
        "boroughs[0].totalRest = len(boroughs[0].restaurants)\n",
        "boroughs[1].totalRest = len(boroughs[1].restaurants)\n",
        "boroughs[2].totalRest = len(boroughs[2].restaurants)\n",
        "boroughs[3].totalRest = len(boroughs[3].restaurants)\n",
        "boroughs[4].totalRest = len(boroughs[4].restaurants)\n",
        "\n",
        "print(\"RESTAURANTS PER BOROUGH\")\n",
        "print(\"Brooklyn:\", len(boroughs[0].restaurants))\n",
        "print(\"Manhattan:\", len(boroughs[1].restaurants))\n",
        "print(\"Queens:\", len(boroughs[2].restaurants))\n",
        "print(\"Bronx:\", len(boroughs[3].restaurants))\n",
        "print(\"Staten Island:\", len(boroughs[4].restaurants))"
      ],
      "execution_count": 73,
      "outputs": [
        {
          "output_type": "stream",
          "text": [
            "RESTAURANTS PER BOROUGH\n",
            "Brooklyn: 6717\n",
            "Manhattan: 10668\n",
            "Queens: 6070\n",
            "Bronx: 2413\n",
            "Staten Island: 973\n"
          ],
          "name": "stdout"
        }
      ]
    },
    {
      "cell_type": "markdown",
      "metadata": {
        "id": "trPMUTnSUQds",
        "colab_type": "text"
      },
      "source": [
        "Finding total number of grades given\n",
        "* `boroughs` is passed to the map function along with the `accumulateGrades()` function\n",
        "* `accumulateGrades()` will iterate through each `borough` and eventually return a list of numbers of grades for each borough\n"
      ]
    },
    {
      "cell_type": "code",
      "metadata": {
        "id": "QHiPGNjAUVhQ",
        "colab_type": "code",
        "outputId": "b2cf99f8-d61b-4945-85c8-2a8d37b1ebf4",
        "colab": {
          "base_uri": "https://localhost:8080/",
          "height": 122
        }
      },
      "source": [
        "def accumulateGrades(borough):\n",
        "      boroGrades = []\n",
        "    \n",
        "      for restKey in borough.restaurants:\n",
        "        restaurant = borough.restaurants[restKey]\n",
        "        \n",
        "        for dateKey in restaurant.inspections:\n",
        "            inspection = restaurant.inspections[dateKey]\n",
        "            if inspection.grade != \"\":\n",
        "              boroGrades.append(inspection.grade)\n",
        "              \n",
        "      return boroGrades\n",
        "          \n",
        "allGrades = list(map(accumulateGrades, boroughs))\n",
        "\n",
        "boroughs[0].allGrades = allGrades[0]\n",
        "boroughs[1].allGrades = allGrades[1]\n",
        "boroughs[2].allGrades = allGrades[2]\n",
        "boroughs[3].allGrades = allGrades[3]\n",
        "boroughs[4].allGrades = allGrades[4]\n",
        "\n",
        "print(\"TOTAL GRADES GIVEN\")\n",
        "print(\"Brooklyn:\", len(allGrades[0]))\n",
        "print(\"Manhattan:\", len(allGrades[1]))\n",
        "print(\"Queens\", len(allGrades[2]))\n",
        "print(\"Bronx\", len(allGrades[3]))\n",
        "print(\"Staten Island\", len(allGrades[4]))"
      ],
      "execution_count": 74,
      "outputs": [
        {
          "output_type": "stream",
          "text": [
            "TOTAL GRADES GIVEN\n",
            "Brooklyn: 20237\n",
            "Manhattan: 32159\n",
            "Queens 18841\n",
            "Bronx 7639\n",
            "Staten Island 2819\n"
          ],
          "name": "stdout"
        }
      ]
    },
    {
      "cell_type": "markdown",
      "metadata": {
        "id": "IWDSJ3qGzWI6",
        "colab_type": "text"
      },
      "source": [
        "Findng the number of each grade attained per borough\n",
        "* `boroughs` is passed to the map function along with the `tallyGrades()` function\n",
        "* The `len()` of the list returned by passing a lambda function which tests for equality to `filter()` for each possible grade"
      ]
    },
    {
      "cell_type": "code",
      "metadata": {
        "id": "c7_Nv9KTzWqo",
        "colab_type": "code",
        "outputId": "aead8fc8-e2b6-4c57-9347-160f9a257c0c",
        "colab": {
          "base_uri": "https://localhost:8080/",
          "height": 122
        }
      },
      "source": [
        "def tallyGrades(borough):\n",
        "      borough.num_A = len(list(filter(lambda x: x == \"A\", borough.allGrades)))\n",
        "      borough.num_B = len(list(filter(lambda x: x == \"B\", borough.allGrades)))\n",
        "      borough.num_C = len(list(filter(lambda x: x == \"C\", borough.allGrades)))\n",
        "      borough.num_P = len(list(filter(lambda x: x == \"P\", borough.allGrades)))\n",
        "      borough.num_Z = len(list(filter(lambda x: x == \"Z\", borough.allGrades)))\n",
        "      borough.num_N = len(list(filter(lambda x: x == \"N\", borough.allGrades)))\n",
        "      return borough\n",
        "\n",
        "boroughs = list(map(tallyGrades, boroughs))\n",
        "\n",
        "print(\"NUMBER OF EACH GRADE GIVEN\")\n",
        "print(\"Brooklyn - A:\", boroughs[0].num_A, \" B:\", boroughs[0].num_B,\n",
        "      \" C:\", boroughs[0].num_C, \" P:\", boroughs[0].num_P, \n",
        "      \" Z:\", boroughs[0].num_Z, \" N:\", boroughs[0].num_N)\n",
        "print(\"Manhattan - A:\", boroughs[1].num_A, \" B:\", boroughs[1].num_B,\n",
        "      \" C:\", boroughs[1].num_C, \" P:\", boroughs[1].num_P, \n",
        "      \" Z:\", boroughs[1].num_Z, \" N:\", boroughs[1].num_N)\n",
        "print(\"Queens - A:\", boroughs[2].num_A, \" B:\", boroughs[2].num_B,\n",
        "      \" C:\", boroughs[2].num_C, \" P:\", boroughs[2].num_P, \n",
        "      \" Z:\", boroughs[2].num_Z, \" N:\", boroughs[2].num_N)\n",
        "print(\"Bronx - A:\", boroughs[3].num_A, \" B:\", boroughs[3].num_B,\n",
        "      \" C:\", boroughs[3].num_C, \" P:\", boroughs[3].num_P, \n",
        "      \" Z:\", boroughs[3].num_Z, \" N:\", boroughs[3].num_N)\n",
        "print(\"Staten Island - A:\", boroughs[4].num_A, \" B:\", boroughs[4].num_B,\n",
        "      \" C:\", boroughs[4].num_C, \" P:\", boroughs[4].num_P, \n",
        "      \" Z:\", boroughs[4].num_Z, \" N:\", boroughs[4].num_N)\n"
      ],
      "execution_count": 75,
      "outputs": [
        {
          "output_type": "stream",
          "text": [
            "NUMBER OF EACH GRADE GIVEN\n",
            "Brooklyn - A: 17114  B: 1616  C: 529  P: 501  Z: 348  N: 127\n",
            "Manhattan - A: 27923  B: 2318  C: 759  P: 556  Z: 466  N: 136\n",
            "Queens - A: 16215  B: 1413  C: 420  P: 388  Z: 301  N: 104\n",
            "Bronx - A: 6460  B: 664  C: 186  P: 152  Z: 144  N: 33\n",
            "Staten Island - A: 2433  B: 236  C: 57  P: 44  Z: 27  N: 22\n"
          ],
          "name": "stdout"
        }
      ]
    },
    {
      "cell_type": "markdown",
      "metadata": {
        "id": "LBsTuh41d0YC",
        "colab_type": "text"
      },
      "source": [
        "`reduce()` is employed to add the total number of violations . Then we divide by number of restaurants, using `map()`  to do this for each borough\n",
        "* `boroughs` is passed to the map function along with the `accumulateViolations()` function\n",
        "* `accumulateViolations()` will iterate through each `borough` and eventually return a list of numbers of violations for each borough\n",
        "* `reduce()` is passed a a lambda function which will sum the total number of violations"
      ]
    },
    {
      "cell_type": "code",
      "metadata": {
        "id": "FAq2-c_Bd1Dv",
        "colab_type": "code",
        "outputId": "95b52cf1-356a-4a5a-e21e-f3222e2d773a",
        "colab": {
          "base_uri": "https://localhost:8080/",
          "height": 122
        }
      },
      "source": [
        "def accumulateViolations(borough):\n",
        "      boroViolations = []\n",
        "    \n",
        "      for restKey in borough.restaurants:\n",
        "        restaurant = borough.restaurants[restKey]\n",
        "        \n",
        "        for dateKey in restaurant.inspections:\n",
        "            inspection = restaurant.inspections[dateKey]\n",
        "            boroViolations.append(inspection.numViolations)\n",
        "              \n",
        "      return boroViolations\n",
        "  \n",
        "\n",
        "boroughViolations = list(map(accumulateViolations, boroughs))\n",
        "\n",
        "boroughs[0].totalViolations = reduce((lambda x, y: x + y), boroughViolations[0])\n",
        "boroughs[1].totalViolations = reduce((lambda x, y: x + y), boroughViolations[1])\n",
        "boroughs[2].totalViolations = reduce((lambda x, y: x + y), boroughViolations[2])\n",
        "boroughs[3].totalViolations = reduce((lambda x, y: x + y), boroughViolations[3])\n",
        "boroughs[4].totalViolations = reduce((lambda x, y: x + y), boroughViolations[4])\n",
        "\n",
        "print(\"TOTAL VIOLATIONS\")\n",
        "print(\"Brooklyn:\", boroughs[0].totalViolations)\n",
        "print(\"Manhattan:\", boroughs[1].totalViolations)\n",
        "print(\"Queens:\", boroughs[2].totalViolations)\n",
        "print(\"Bronx:\", boroughs[3].totalViolations)\n",
        "print(\"Staten Island:\", boroughs[4].totalViolations)\n"
      ],
      "execution_count": 76,
      "outputs": [
        {
          "output_type": "stream",
          "text": [
            "TOTAL VIOLATIONS\n",
            "Brooklyn: 96349\n",
            "Manhattan: 150243\n",
            "Queens: 86542\n",
            "Bronx: 34355\n",
            "Staten Island: 12959\n"
          ],
          "name": "stdout"
        }
      ]
    },
    {
      "cell_type": "markdown",
      "metadata": {
        "id": "uJcE9pucJNTi",
        "colab_type": "text"
      },
      "source": [
        "Calculation of average number of violations per restaurant per borough"
      ]
    },
    {
      "cell_type": "code",
      "metadata": {
        "id": "I6jfX1WPJN9w",
        "colab_type": "code",
        "outputId": "ba7546e1-db00-45b9-cf2b-291e10918afe",
        "colab": {
          "base_uri": "https://localhost:8080/",
          "height": 122
        }
      },
      "source": [
        "def calculateViolationAvg(borough):\n",
        "      return borough.totalViolations / borough.totalRest\n",
        "\n",
        "avgViolations = list(map(calculateViolationAvg, boroughs))\n",
        "\n",
        "print(\"AVERAGE NUMBER OF VIOLATIONS PER RESTAURANT\")\n",
        "print(\"Brooklyn:\", avgViolations[0])\n",
        "print(\"Manhattan:\", avgViolations[1])\n",
        "print(\"Queens:\", avgViolations[2])\n",
        "print(\"Bronx:\", avgViolations[3])\n",
        "print(\"Staten Island:\", avgViolations[4])"
      ],
      "execution_count": 77,
      "outputs": [
        {
          "output_type": "stream",
          "text": [
            "AVERAGE NUMBER OF VIOLATIONS PER RESTAURANT\n",
            "Brooklyn: 14.34405240434718\n",
            "Manhattan: 14.083520809898763\n",
            "Queens: 14.257331136738056\n",
            "Bronx: 14.23746373808537\n",
            "Staten Island: 13.318602261048305\n"
          ],
          "name": "stdout"
        }
      ]
    },
    {
      "cell_type": "markdown",
      "metadata": {
        "id": "HEBb-zBNLXjY",
        "colab_type": "text"
      },
      "source": [
        "Finally, we find calculate percentage share of each grade per borough by referring to the number of each grade given and the total number of grades given for each borough.\n",
        "* For each borough `(number of grade X) / (total grades given)`\n",
        "\n",
        "*Aside: Please pardon the brutishness of some of this code. I simply did not have enough time to refactor.*"
      ]
    },
    {
      "cell_type": "code",
      "metadata": {
        "id": "ri2teif0LX_I",
        "colab_type": "code",
        "outputId": "b8b84320-602c-4c7e-b92f-d1857ac25f32",
        "colab": {
          "base_uri": "https://localhost:8080/",
          "height": 122
        }
      },
      "source": [
        "def calculateGradePct(borough):\n",
        "      pctList = []\n",
        "      pctList.append((borough.num_A / len(borough.allGrades)) * 100)\n",
        "      pctList.append((borough.num_B / len(borough.allGrades)) * 100)\n",
        "      pctList.append((borough.num_C / len(borough.allGrades)) * 100)\n",
        "      pctList.append((borough.num_P / len(borough.allGrades)) * 100)\n",
        "      pctList.append((borough.num_Z / len(borough.allGrades)) * 100)\n",
        "      pctList.append((borough.num_N / len(borough.allGrades)) * 100)\n",
        "      return pctList\n",
        "\n",
        "gradePctList = list(map(calculateGradePct, boroughs))\n",
        "\n",
        "print(\"PERCENTAGE OF EACH GRADE\")\n",
        "print(\"Brooklyn - A:\", gradePctList[0][0], \"%  B:\", gradePctList[0][1],\n",
        "      \"%  C:\", gradePctList[0][2], \"%  P:\", gradePctList[0][3], \n",
        "      \"%  Z:\", gradePctList[0][4], \"%  N:\", gradePctList[0][5], \"%\")\n",
        "print(\"Manhattan - A:\", gradePctList[1][0], \"%  B:\", gradePctList[1][1],\n",
        "      \"%  C:\", gradePctList[1][2], \"%  P:\", gradePctList[1][3], \n",
        "      \"%  Z:\", gradePctList[1][4], \"%  N:\", gradePctList[1][5], \"%\")\n",
        "print(\"Queens - A:\", gradePctList[2][0], \"%  B:\", gradePctList[2][1],\n",
        "      \"%  C:\", gradePctList[2][2], \"%  P:\", gradePctList[2][3], \n",
        "      \"%  Z:\", gradePctList[2][4], \"%  N:\", gradePctList[2][5], \"%\")\n",
        "print(\"Bronx - A:\", gradePctList[3][0], \"%  B:\", gradePctList[3][1],\n",
        "      \"%  C:\", gradePctList[3][2], \"%  P:\", gradePctList[3][3], \n",
        "      \"%  Z:\", gradePctList[3][4], \"%  N:\", gradePctList[3][5], \"%\")\n",
        "print(\"Bronx - A:\", gradePctList[4][0], \"%  B:\", gradePctList[4][1],\n",
        "      \"%  C:\", gradePctList[4][2], \"%  P:\", gradePctList[4][3], \n",
        "      \"%  Z:\", gradePctList[4][4], \"%  N:\", gradePctList[4][5], \"%\")"
      ],
      "execution_count": 78,
      "outputs": [
        {
          "output_type": "stream",
          "text": [
            "PERCENTAGE OF EACH GRADE\n",
            "Brooklyn - A: 84.56787073182784 %  B: 7.985373326085882 %  C: 2.6140238177595494 %  P: 2.4756633888422197 %  Z: 1.719622473686811 %  N: 0.627563374017888 %\n",
            "Manhattan - A: 86.82794863024348 %  B: 7.207935570135887 %  C: 2.3601480145526916 %  P: 1.728909481016201 %  Z: 1.4490500326502689 %  N: 0.4228987219751858 %\n",
            "Queens - A: 86.06231091767953 %  B: 7.499601931956902 %  C: 2.229181041346001 %  P: 2.0593386762910675 %  Z: 1.5975797462979673 %  N: 0.5519876864285335 %\n",
            "Bronx - A: 84.5660426757429 %  B: 8.69223720382249 %  C: 2.4348736745647335 %  P: 1.9897892394292447 %  Z: 1.8850634899856005 %  N: 0.43199371645503337 %\n",
            "Bronx - A: 86.30720113515432 %  B: 8.37176303653778 %  C: 2.0219936147570063 %  P: 1.5608371763036537 %  Z: 0.9577864490954239 %  N: 0.7804185881518269 %\n"
          ],
          "name": "stdout"
        }
      ]
    },
    {
      "cell_type": "markdown",
      "metadata": {
        "id": "ow0LNeJ0VVwE",
        "colab_type": "text"
      },
      "source": [
        "It was a challenge for me to break out of the object-oriented way of thinking. In writing the code, I felt like I was iterating through the original dataset many more times than I would have if I'd followed a programming style that I was more familiar with.  I found myself breaking the flow of the program into more numerous, yet admittedly more succinct, parts in order to fulfill the spec.  Having little experience with Python and these functions, the biggest obstable was fitting these functions into my plan."
      ]
    }
  ]
}