{
  "nbformat": 4,
  "nbformat_minor": 0,
  "metadata": {
    "colab": {
      "name": "CISC3140_Midterm_Notebook_1.ipynb",
      "version": "0.3.2",
      "provenance": [],
      "collapsed_sections": [],
      "include_colab_link": true
    },
    "kernelspec": {
      "name": "python3",
      "display_name": "Python 3"
    }
  },
  "cells": [
    {
      "cell_type": "markdown",
      "metadata": {
        "id": "view-in-github",
        "colab_type": "text"
      },
      "source": [
        "<a href=\"https://colab.research.google.com/github/dirtydupe/cisc_3140_Midterm/blob/master/CISC3140_Midterm_Notebook_1.ipynb\" target=\"_parent\"><img src=\"https://colab.research.google.com/assets/colab-badge.svg\" alt=\"Open In Colab\"/></a>"
      ]
    },
    {
      "cell_type": "markdown",
      "metadata": {
        "id": "L04pHn1sg0Ui",
        "colab_type": "text"
      },
      "source": [
        "\n",
        "# Joe Troia - Notebook 1\n",
        "## Dataset: DOHMH New York City Restaurant Inspection Results\n",
        "\n",
        "The objectives in the use of this dataset:\n",
        "\n",
        "1. Calculate number of restaurants per borough and record number of each grade attained per borough.\n",
        "2. Use this in order to find the percentage of each grade per borough as well as\n",
        "3. percentage share of each borough for each grade \n",
        "4. Calculate average inspection score per borough (a numerical score in which lower is better)\n",
        "5. List 5 restaurants per borough with most violations\n",
        "\n",
        "*Note that the restaurants in the dataset can have multiple inspection dates and multiple violations recorded per inspection so there will be duplicate records for restaurants. Only the most recent grade will count towards the grade totals. Obviously, when counting the number of citations per business, inspections resulting in no violations.*\n",
        "\n",
        "In looking to follow the specifications provided by Professor Chuang, many of the problems were tackled with a focus on using list comprehension,  `lambda`  and the following Python functions:\n",
        "* `map()`\n",
        "* `reduce()`\n",
        "\n",
        "### Inspection Grades:\n",
        "*  **A** \n",
        "*  **B**\n",
        "*  **C**\n",
        "*  **P** - Grade Pending\n",
        "*  **Z** - Grade Pending issued on re-opening following an initial inspection that resulted in a closure\n",
        "*  **N** - Not Yet Graded\n",
        "\n",
        "\n",
        "\n",
        "\n",
        "\n",
        "\n",
        "\n"
      ]
    },
    {
      "cell_type": "markdown",
      "metadata": {
        "id": "QkzNb5RAFLF4",
        "colab_type": "text"
      },
      "source": [
        "Importing required libraries:"
      ]
    },
    {
      "cell_type": "code",
      "metadata": {
        "id": "XWJLe9LRgluv",
        "colab_type": "code",
        "colab": {}
      },
      "source": [
        "import json\n",
        "import urllib.request"
      ],
      "execution_count": 0,
      "outputs": []
    },
    {
      "cell_type": "markdown",
      "metadata": {
        "id": "CzAbMCF5FbZy",
        "colab_type": "text"
      },
      "source": [
        "The API endpoint of the data to be examined is at https://data.cityofnewyork.us/resource/43nn-pn8j.json\n",
        "\n",
        "By default, this will return only 1000 results so we'll pass the query parameters `$limit=100000&$offset=0` so that the json returned will contain many, but not all, of the elements in the dataset.\n",
        "\n",
        "Collaboratory seems to hang up when trying to process all 380,000+ elements in the data; so this compromise needs to be made."
      ]
    },
    {
      "cell_type": "code",
      "metadata": {
        "id": "a_7Ldrxr1nJx",
        "colab_type": "code",
        "colab": {}
      },
      "source": [
        "url = \"https://data.cityofnewyork.us/resource/43nn-pn8j.json?$limit=100000&$offset=0\""
      ],
      "execution_count": 0,
      "outputs": []
    },
    {
      "cell_type": "markdown",
      "metadata": {
        "id": "qO3jbvWQkU34",
        "colab_type": "text"
      },
      "source": [
        "Opening the URL and reading the Response object, then putting the json string into the list `data`"
      ]
    },
    {
      "cell_type": "code",
      "metadata": {
        "id": "_eSifzuLeQF6",
        "colab_type": "code",
        "colab": {
          "base_uri": "https://localhost:8080/",
          "height": 52
        },
        "outputId": "5c01231d-9ed7-4411-e27a-b7d90aed1a10"
      },
      "source": [
        "response = urllib.request.urlopen(url)\n",
        "jsonObj = response.read()\n",
        "data = json.loads(jsonObj)"
      ],
      "execution_count": 86,
      "outputs": [
        {
          "output_type": "stream",
          "text": [
            "<class 'http.client.HTTPResponse'>\n",
            "<class 'bytes'>\n"
          ],
          "name": "stdout"
        }
      ]
    },
    {
      "cell_type": "markdown",
      "metadata": {
        "id": "pKpCOR2Kl4W5",
        "colab_type": "text"
      },
      "source": [
        "Checking the total number of elements in the list"
      ]
    },
    {
      "cell_type": "code",
      "metadata": {
        "id": "6Z5bHzjzBVi4",
        "colab_type": "code",
        "outputId": "5de2ceeb-ae6f-4097-cd58-dc71ad25bfe0",
        "colab": {
          "base_uri": "https://localhost:8080/",
          "height": 34
        }
      },
      "source": [
        "dataSize = len(data)\n",
        "print(dataSize)"
      ],
      "execution_count": 89,
      "outputs": [
        {
          "output_type": "stream",
          "text": [
            "100000\n"
          ],
          "name": "stdout"
        }
      ]
    },
    {
      "cell_type": "markdown",
      "metadata": {
        "id": "LjVo1wRUJwz2",
        "colab_type": "text"
      },
      "source": [
        "Here I'm defining a Borough class which will be the parent class for each 5 children borough classes.  These will contain fields and methods which will manipulate and store data for each borough."
      ]
    },
    {
      "cell_type": "code",
      "metadata": {
        "id": "la_JF8apXGk4",
        "colab_type": "code",
        "colab": {}
      },
      "source": [
        "class Borough():\n",
        "    def __init__(self):\n",
        "        self.numinspected = 0\n",
        "        self.numGraded = 0\n",
        "        self.num_A = 0\n",
        "        self.num_B = 0\n",
        "        self.num_C = 0\n",
        "        self.num_P = 0\n",
        "        self.num_Z = 0\n",
        "        self.num_N = 0\n",
        "        \n",
        "    def incrInspected(self):\n",
        "        self.numInspected = self.numInspected + 1\n",
        "        \n",
        "    def incrGraded(self):\n",
        "        self.numGraded = self.numGraded + 1\n",
        "        \n",
        "    def incrA(self):\n",
        "        self.num_A += 1\n",
        "        \n",
        "    def incrB(self):\n",
        "        self.num_B += 1\n",
        "        \n",
        "    def incrC(self):\n",
        "        self.num_C += 1\n",
        "        \n",
        "    def incrP(self):\n",
        "        self.num_P += 1\n",
        "        \n",
        "    def incrZ(self):\n",
        "        self.num_Z += 1\n",
        "        \n",
        "    def incrN(self):\n",
        "        self.num_N += 1\n",
        "        \n",
        "class Brooklyn(Borough):\n",
        "    pass\n",
        "\n",
        "class Manhattan(Borough):\n",
        "    pass\n",
        "\n",
        "class Queens(Borough):\n",
        "    pass\n",
        "  \n",
        "class Bronx(Borough):\n",
        "    pass\n",
        "\n",
        "class StatenIsland(Borough):\n",
        "    pass"
      ],
      "execution_count": 0,
      "outputs": []
    },
    {
      "cell_type": "markdown",
      "metadata": {
        "id": "GHz_LBV2rLZ6",
        "colab_type": "text"
      },
      "source": [
        "These static fuctions will parse out ungraded citations so we have a clean list of graded records "
      ]
    },
    {
      "cell_type": "code",
      "metadata": {
        "id": "HS7vBrX0s5so",
        "colab_type": "code",
        "colab": {}
      },
      "source": [
        "def isGraded(record):\n",
        "    if 'grade' in record:\n",
        "        return True\n",
        "    else:\n",
        "        return False\n",
        "      \n",
        "def accumulateGraded(list):  #need to change method\n",
        "    gradedList = []\n",
        "    i = 0\n",
        "    \n",
        "    for record in list:\n",
        "      if isGraded(list[i]):\n",
        "          gradedList.append(list[i])\n",
        "          \n",
        "      i += 1\n",
        "          \n",
        "    return gradedList"
      ],
      "execution_count": 0,
      "outputs": []
    },
    {
      "cell_type": "markdown",
      "metadata": {
        "id": "qUz2Pu3VfB7E",
        "colab_type": "text"
      },
      "source": [
        "Instantiating an object for each borough and putting them into the `boroughs` list"
      ]
    },
    {
      "cell_type": "code",
      "metadata": {
        "colab_type": "code",
        "id": "R9U5WCEMRvuO",
        "colab": {}
      },
      "source": [
        "brooklyn = Brooklyn()\n",
        "manhattan = Manhattan()\n",
        "queens = Queens()\n",
        "bronx = Bronx()\n",
        "statenIsland = StatenIsland()\n",
        "\n",
        "boroughs = [brooklyn, manhattan, queens, bronx, statenIsland]"
      ],
      "execution_count": 0,
      "outputs": []
    },
    {
      "cell_type": "code",
      "metadata": {
        "id": "py9dfBI9exGp",
        "colab_type": "code",
        "outputId": "1ba1daa7-8d82-4447-f17a-100687a4f678",
        "colab": {
          "base_uri": "https://localhost:8080/",
          "height": 34
        }
      },
      "source": [
        "if 'grade' not in data[1]:\n",
        "    print(\"No data for target\")\n",
        "else:\n",
        "    print(data[1]['grade'])"
      ],
      "execution_count": 65,
      "outputs": [
        {
          "output_type": "stream",
          "text": [
            "No data for target\n"
          ],
          "name": "stdout"
        }
      ]
    },
    {
      "cell_type": "markdown",
      "metadata": {
        "id": "OhQ7lcX7tgLe",
        "colab_type": "text"
      },
      "source": [
        "\n",
        "Assembling a clean list of citations with grades recorded\n",
        "\n",
        "\n",
        "\n",
        "\n",
        "\n"
      ]
    },
    {
      "cell_type": "code",
      "metadata": {
        "id": "9m-bSlxwVupJ",
        "colab_type": "code",
        "outputId": "10d341a0-f95a-46ef-ed3e-6e129773e0ab",
        "colab": {
          "base_uri": "https://localhost:8080/",
          "height": 34
        }
      },
      "source": [
        "gradedRecords = accumulateGraded(data)\n",
        "totalGradedRecords = len(gradedRecords)\n",
        "print(totalGradedRecords)"
      ],
      "execution_count": 93,
      "outputs": [
        {
          "output_type": "stream",
          "text": [
            "50740\n"
          ],
          "name": "stdout"
        }
      ]
    }
  ]
}