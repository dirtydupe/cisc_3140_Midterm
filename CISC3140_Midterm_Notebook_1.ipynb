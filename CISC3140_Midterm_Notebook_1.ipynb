{
  "nbformat": 4,
  "nbformat_minor": 0,
  "metadata": {
    "colab": {
      "name": "CISC3140_Midterm_Notebook_1.ipynb",
      "version": "0.3.2",
      "provenance": [],
      "collapsed_sections": [],
      "include_colab_link": true
    },
    "kernelspec": {
      "name": "python3",
      "display_name": "Python 3"
    }
  },
  "cells": [
    {
      "cell_type": "markdown",
      "metadata": {
        "id": "view-in-github",
        "colab_type": "text"
      },
      "source": [
        "<a href=\"https://colab.research.google.com/github/dirtydupe/cisc_3140_Midterm/blob/master/CISC3140_Midterm_Notebook_1.ipynb\" target=\"_parent\"><img src=\"https://colab.research.google.com/assets/colab-badge.svg\" alt=\"Open In Colab\"/></a>"
      ]
    },
    {
      "cell_type": "markdown",
      "metadata": {
        "id": "L04pHn1sg0Ui",
        "colab_type": "text"
      },
      "source": [
        "\n",
        "# Joe Troia - Notebook 1\n",
        "## Dataset: DOHMH New York City Restaurant Inspection Results\n",
        "\n",
        "The objectives in the use of this dataset:\n",
        "\n",
        "1. Calculate number of restaurants per borough (graded and ungraded) and record number of each grade attained per borough.\n",
        "2. Use this in order to find the percentage of each grade per borough as well as\n",
        "3. percentage share of each borough per grade \n",
        "4. Calculate average inspection score per borough (a numerical score in which lower is better)\n",
        "5. Calcualte average number of violations per borough\n",
        "\n",
        "*Note that the restaurants in the dataset can have multiple inspection dates and multiple violations recorded per inspection so there will be duplicate records for restaurants. Only the one grade and score recorded per inspection will count towards the grade totals. Also, not every citation has a grade attached to it so this needs to be taken into account when parsing the records.*\n",
        "\n",
        "In looking to follow the specifications provided by Professor Chuang, many of the problems were tackled with a focus on using list comprehension,  `lambda`  and the following Python functions:\n",
        "* `map()`\n",
        "* `reduce()`\n",
        "* `filter()`\n",
        "\n",
        "### Inspection Grades:\n",
        "*  **A** \n",
        "*  **B**\n",
        "*  **C**\n",
        "*  **P** - Grade Pending\n",
        "*  **Z** - Grade Pending issued on re-opening following an initial inspection that resulted in a closure\n",
        "*  **N** - Not Yet Graded\n",
        "\n",
        "\n",
        "\n",
        "\n",
        "\n",
        "\n",
        "\n",
        "\n"
      ]
    },
    {
      "cell_type": "markdown",
      "metadata": {
        "id": "QkzNb5RAFLF4",
        "colab_type": "text"
      },
      "source": [
        "Importing required libraries:"
      ]
    },
    {
      "cell_type": "code",
      "metadata": {
        "id": "XWJLe9LRgluv",
        "colab_type": "code",
        "colab": {}
      },
      "source": [
        "import functools\n",
        "import json\n",
        "import urllib.request"
      ],
      "execution_count": 0,
      "outputs": []
    },
    {
      "cell_type": "markdown",
      "metadata": {
        "id": "CzAbMCF5FbZy",
        "colab_type": "text"
      },
      "source": [
        "The API endpoint of the data to be examined is at https://data.cityofnewyork.us/resource/43nn-pn8j.json\n",
        "\n",
        "By default, this will return only 1000 results so we'll pass the query parameters `$limit=100000&$offset=0` so that the json returned will contain many, but not all, of the elements in the dataset.\n",
        "\n",
        "Collaboratory seems to hang up when trying to process all 380,000+ elements in the data; so this compromise needs to be made."
      ]
    },
    {
      "cell_type": "code",
      "metadata": {
        "id": "a_7Ldrxr1nJx",
        "colab_type": "code",
        "colab": {}
      },
      "source": [
        "url = \"https://data.cityofnewyork.us/resource/43nn-pn8j.json?$limit=100000&$offset=0\""
      ],
      "execution_count": 0,
      "outputs": []
    },
    {
      "cell_type": "markdown",
      "metadata": {
        "id": "qO3jbvWQkU34",
        "colab_type": "text"
      },
      "source": [
        "Opening the URL and reading the Response object, then putting the json string into the list `data`"
      ]
    },
    {
      "cell_type": "code",
      "metadata": {
        "id": "_eSifzuLeQF6",
        "colab_type": "code",
        "colab": {}
      },
      "source": [
        "response = urllib.request.urlopen(url)\n",
        "jsonObj = response.read()\n",
        "data = json.loads(jsonObj)"
      ],
      "execution_count": 0,
      "outputs": []
    },
    {
      "cell_type": "markdown",
      "metadata": {
        "id": "pKpCOR2Kl4W5",
        "colab_type": "text"
      },
      "source": [
        "Checking the total number of elements in the list"
      ]
    },
    {
      "cell_type": "code",
      "metadata": {
        "id": "6Z5bHzjzBVi4",
        "colab_type": "code",
        "outputId": "78952eb3-fb5a-43eb-fe5a-7556823cd68f",
        "colab": {
          "base_uri": "https://localhost:8080/",
          "height": 34
        }
      },
      "source": [
        "dataSize = len(data)\n",
        "print(dataSize)"
      ],
      "execution_count": 17,
      "outputs": [
        {
          "output_type": "stream",
          "text": [
            "100000\n"
          ],
          "name": "stdout"
        }
      ]
    },
    {
      "cell_type": "markdown",
      "metadata": {
        "id": "OWrjvbxt6Oil",
        "colab_type": "text"
      },
      "source": [
        "Defining an Inspection class and a Restaurant class to hold accumulator fields and other data that will allow us to make the final calculations.\n",
        "\n",
        "*Aside: \"Restaurant\" is one of those words that look weird when you spell it out, amirite?*"
      ]
    },
    {
      "cell_type": "code",
      "metadata": {
        "id": "C16zEzGV6PkM",
        "colab_type": "code",
        "colab": {}
      },
      "source": [
        "class Inspection():\n",
        "      def __init__(self):\n",
        "          self.date = \"\"\n",
        "          self.grade = \"\"\n",
        "          self.score = 0\n",
        "          self.numViolations = 0\n",
        "          \n",
        "      def incrViolations(self):\n",
        "        self.numViolations += 1\n",
        "      \n",
        "\n",
        "class Restaurant():\n",
        "      def __init__(self):\n",
        "          self.inspections = {}\n",
        "          self.camis = \"\""
      ],
      "execution_count": 0,
      "outputs": []
    },
    {
      "cell_type": "markdown",
      "metadata": {
        "id": "LjVo1wRUJwz2",
        "colab_type": "text"
      },
      "source": [
        "Here I'm defining a Borough class which will contain fields and methods which will manipulate and aggregate data for each borough including a list of Restaurant objects belonging to each."
      ]
    },
    {
      "cell_type": "code",
      "metadata": {
        "id": "la_JF8apXGk4",
        "colab_type": "code",
        "colab": {}
      },
      "source": [
        "class Borough():\n",
        "    def __init__(self, name):\n",
        "        self.name = name\n",
        "        self.restaurants = {}\n",
        "        self.allCitations = []\n",
        "        self.allGrades = []\n",
        "        self.num_A = 0\n",
        "        self.num_B = 0\n",
        "        self.num_C = 0\n",
        "        self.num_P = 0\n",
        "        self.num_Z = 0\n",
        "        self.num_N = 0\n",
        "        self.totalRest = 0\n",
        "        self.totalCitations = 0\n",
        "        self.totalGrades = 0\n",
        "        \n",
        "    def addRestaurant(self, camis, restaurant):\n",
        "        self.restaurants[camis] = restaurant\n",
        "        \n",
        "    def isNewRestaurant(self, camis):\n",
        "        if camis in self.restaurants:\n",
        "            return False\n",
        "        \n",
        "        return True"
      ],
      "execution_count": 0,
      "outputs": []
    },
    {
      "cell_type": "markdown",
      "metadata": {
        "id": "qUz2Pu3VfB7E",
        "colab_type": "text"
      },
      "source": [
        "Instantiating an object for each borough and putting them into the `boroughs` list \n",
        "* The lambda function is defined to call `Borough`'s constructor\n",
        "* List comprehension is used to create the list of `Borough` objects"
      ]
    },
    {
      "cell_type": "code",
      "metadata": {
        "colab_type": "code",
        "id": "R9U5WCEMRvuO",
        "outputId": "813a54b0-b8e9-42f7-9d65-010f37aeca86",
        "colab": {
          "base_uri": "https://localhost:8080/",
          "height": 105
        }
      },
      "source": [
        "constructBoroughs = lambda x: Borough(x)\n",
        "\n",
        "boroughs = [\"Brooklyn\", \"Manhattan\", \"Queens\", \"Bronx\", \"Staten Island\"]\n",
        "boroughs = [constructBoroughs(b) for b in boroughs]\n",
        "\n",
        "for b in boroughs:\n",
        "    print(b.name)"
      ],
      "execution_count": 51,
      "outputs": [
        {
          "output_type": "stream",
          "text": [
            "Brooklyn\n",
            "Manhattan\n",
            "Queens\n",
            "Bronx\n",
            "Staten Island\n"
          ],
          "name": "stdout"
        }
      ]
    },
    {
      "cell_type": "markdown",
      "metadata": {
        "id": "BV00wT5DnGLf",
        "colab_type": "text"
      },
      "source": [
        "Using `map()`, I call a function that itself calls `filter()` on the bulk data.  This will filter `data` based on the borough field. The resulting list is stored in the current borough object's `allCitations` field.                               "
      ]
    },
    {
      "cell_type": "code",
      "metadata": {
        "id": "AiyH5s8GnGa4",
        "colab_type": "code",
        "outputId": "43897d86-d8c7-4856-c0e6-8d4c368cd6c9",
        "colab": {
          "base_uri": "https://localhost:8080/",
          "height": 122
        }
      },
      "source": [
        "def buildCitationLists(borough):\n",
        "      citList = list(filter(lambda x: x['boro'] == borough.name , data))\n",
        "      borough.allCitations = citList\n",
        "      return borough      \n",
        "\n",
        "boroughs = list(map(buildCitationLists, boroughs))\n",
        "\n",
        "boroughs[0].totalCitations = len(boroughs[0].allCitations)\n",
        "boroughs[1].totalCitations = len(boroughs[1].allCitations)\n",
        "boroughs[2].totalCitations = len(boroughs[2].allCitations)\n",
        "boroughs[3].totalCitations = len(boroughs[3].allCitations)\n",
        "boroughs[4].totalCitations = len(boroughs[4].allCitations)\n",
        "\n",
        "print(\"CITATIONS TOTALS\")\n",
        "print(\"Brooklyn:\", len(boroughs[0].allCitations))\n",
        "print(\"Manhattan:\", len(boroughs[1].allCitations))\n",
        "print(\"Queens:\", len(boroughs[2].allCitations))\n",
        "print(\"Bronx:\", len(boroughs[3].allCitations))\n",
        "print(\"Staten Island:\", len(boroughs[4].allCitations))"
      ],
      "execution_count": 52,
      "outputs": [
        {
          "output_type": "stream",
          "text": [
            "CITATIONS TOTALS\n",
            "Brooklyn: 25578\n",
            "Manhattan: 39252\n",
            "Queens: 22811\n",
            "Bronx: 8945\n",
            "Staten Island: 3384\n"
          ],
          "name": "stdout"
        }
      ]
    },
    {
      "cell_type": "markdown",
      "metadata": {
        "id": "MYERjX8y7swp",
        "colab_type": "text"
      },
      "source": [
        "Using `map()` again, the `restaurants` dictionary of each borough is built. A unique 'camis' id key maps to each unique Restaurant object. Restaurant objects are created for each new camis by testing if the key is present in that `Borough` object's `restaurants` dictionary.\n",
        "\n",
        "Additionally, the details of the citation are entered if it is a new inspection or, if an inspection was already recorded in the `Restaurant` object, the number of violations is incremented if a violation was noted on that line of data."
      ]
    },
    {
      "cell_type": "code",
      "metadata": {
        "id": "JD436luFs4Aa",
        "colab_type": "code",
        "colab": {
          "base_uri": "https://localhost:8080/",
          "height": 122
        },
        "outputId": "d1c682e8-8d05-4aa7-a39b-851eadd57d98"
      },
      "source": [
        "def buildRestaurantDicts(record, borough):    \n",
        "      if borough.isNewRestaurant(record['camis']):\n",
        "          restaurant = Restaurant()\n",
        "          restaurant.camis = record['camis']      \n",
        "          borough.addRestaurant(record['camis'], restaurant)\n",
        " \n",
        "      if record['inspection_date'] in borough.restaurants[record['camis']].inspections:\n",
        "          if 'violation_code' in record:\n",
        "              borough.restaurants[record['camis']].inspections[record['inspection_date']].incrViolations()\n",
        "      else:\n",
        "          inspection = Inspection()\n",
        "          inspection.date = record['inspection_date']\n",
        "          \n",
        "          if 'grade' in record:\n",
        "              inspection.grade = record['grade']\n",
        "          \n",
        "          if 'score' in record:\n",
        "              inspection.score = record['score']\n",
        "            \n",
        "          if 'violation_code' in record:\n",
        "              inspection.numViolations = 1\n",
        "          \n",
        "          borough.restaurants[record['camis']].inspections[record['inspection_date']] = inspection\n",
        "          \n",
        "          \n",
        "def buildBoroughObjects(borough):       \n",
        "      for record in borough.allCitations:\n",
        "          buildRestaurantDicts(record, borough)\n",
        "\n",
        "      return borough\n",
        "\n",
        "boroughs = list(map(buildBoroughObjects, boroughs))\n",
        "\n",
        "boroughs[0].totalRest = len(boroughs[0].restaurants)\n",
        "boroughs[1].totalRest = len(boroughs[1].restaurants)\n",
        "boroughs[2].totalRest = len(boroughs[2].restaurants)\n",
        "boroughs[3].totalRest = len(boroughs[3].restaurants)\n",
        "boroughs[4].totalRest = len(boroughs[4].restaurants)\n",
        "\n",
        "print(\"RESTAURANTS PER BOROUGH\")\n",
        "print(\"Brooklyn:\", len(boroughs[0].restaurants))\n",
        "print(\"Manhattan:\", len(boroughs[1].restaurants))\n",
        "print(\"Queens:\", len(boroughs[2].restaurants))\n",
        "print(\"Bronx:\", len(boroughs[3].restaurants))\n",
        "print(\"Staten Island:\", len(boroughs[4].restaurants))"
      ],
      "execution_count": 53,
      "outputs": [
        {
          "output_type": "stream",
          "text": [
            "RESTAURANTS PER BOROUGH\n",
            "Brooklyn: 5871\n",
            "Manhattan: 9271\n",
            "Queens: 5351\n",
            "Bronx: 2118\n",
            "Staten Island: 847\n"
          ],
          "name": "stdout"
        }
      ]
    },
    {
      "cell_type": "markdown",
      "metadata": {
        "id": "trPMUTnSUQds",
        "colab_type": "text"
      },
      "source": [
        "Find number of grades per borough:\n",
        "* Total number of grades given\n"
      ]
    },
    {
      "cell_type": "code",
      "metadata": {
        "id": "QHiPGNjAUVhQ",
        "colab_type": "code",
        "colab": {
          "base_uri": "https://localhost:8080/",
          "height": 122
        },
        "outputId": "d9c8d60f-9592-40a3-fa91-6f77c7520afd"
      },
      "source": [
        "def accumulateGrades(borough):\n",
        "      boroGrades = []\n",
        "    \n",
        "      for restKey in borough.restaurants:\n",
        "        restaurant = borough.restaurants[restKey]\n",
        "        \n",
        "        for dateKey in restaurant.inspections:\n",
        "            inspection = restaurant.inspections[dateKey]\n",
        "            if inspection.grade != \"\":\n",
        "              boroGrades.append(inspection.grade)\n",
        "              \n",
        "      return boroGrades\n",
        "          \n",
        "allGrades = list(map(accumulateGrades, boroughs))\n",
        "\n",
        "boroughs[0].allGrades = allGrades[0]\n",
        "boroughs[1].allGrades = allGrades[1]\n",
        "boroughs[2].allGrades = allGrades[2]\n",
        "boroughs[3].allGrades = allGrades[3]\n",
        "boroughs[4].allGrades = allGrades[4]\n",
        "\n",
        "print(\"TOTAL GRADES GIVEN\")\n",
        "print(\"Brooklyn:\", len(allGrades[0]))\n",
        "print(\"Manhattan:\", len(allGrades[1]))\n",
        "print(\"Queens\", len(allGrades[2]))\n",
        "print(\"Bronx\", len(allGrades[3]))\n",
        "print(\"Staten Island\", len(allGrades[4]))"
      ],
      "execution_count": 54,
      "outputs": [
        {
          "output_type": "stream",
          "text": [
            "TOTAL GRADES GIVEN\n",
            "Brooklyn: 10042\n",
            "Manhattan: 15648\n",
            "Queens 9287\n",
            "Bronx 3675\n",
            "Staten Island 1382\n"
          ],
          "name": "stdout"
        }
      ]
    },
    {
      "cell_type": "markdown",
      "metadata": {
        "id": "IWDSJ3qGzWI6",
        "colab_type": "text"
      },
      "source": [
        "* Number of each grade attained per borough"
      ]
    },
    {
      "cell_type": "code",
      "metadata": {
        "id": "c7_Nv9KTzWqo",
        "colab_type": "code",
        "colab": {
          "base_uri": "https://localhost:8080/",
          "height": 122
        },
        "outputId": "7496f46a-d009-4c87-f98c-b67c37e5d571"
      },
      "source": [
        "def tallyGrades(borough):\n",
        "      borough.num_A = len(list(filter(lambda x: x == \"A\", borough.allGrades)))\n",
        "      borough.num_B = len(list(filter(lambda x: x == \"B\", borough.allGrades)))\n",
        "      borough.num_C = len(list(filter(lambda x: x == \"C\", borough.allGrades)))\n",
        "      borough.num_P = len(list(filter(lambda x: x == \"P\", borough.allGrades)))\n",
        "      borough.num_Z = len(list(filter(lambda x: x == \"Z\", borough.allGrades)))\n",
        "      borough.num_N = len(list(filter(lambda x: x == \"N\", borough.allGrades)))\n",
        "      return borough\n",
        "\n",
        "boroughs = list(map(tallyGrades, boroughs))\n",
        "\n",
        "print(\"NUMBER OF EACH GRADE GIVEN\")\n",
        "print(\"Brooklyn - A:\", boroughs[0].num_A, \" B:\", boroughs[0].num_B,\n",
        "      \" C:\", boroughs[0].num_C, \" P:\", boroughs[0].num_P, \" Z:\", boroughs[0].num_Z, \" N:\", boroughs[0].num_N)\n",
        "print(\"Manhattan - A:\", boroughs[1].num_A, \" B:\", boroughs[1].num_B,\n",
        "      \" C:\", boroughs[1].num_C, \" P:\", boroughs[1].num_P, \" Z:\", boroughs[1].num_Z, \" N:\", boroughs[1].num_N)\n",
        "print(\"Queens - A:\", boroughs[2].num_A, \" B:\", boroughs[2].num_B,\n",
        "      \" C:\", boroughs[2].num_C, \" P:\", boroughs[2].num_P, \" Z:\", boroughs[2].num_Z, \" N:\", boroughs[2].num_N)\n",
        "print(\"Bronx - A:\", boroughs[3].num_A, \" B:\", boroughs[3].num_B,\n",
        "      \" C:\", boroughs[3].num_C, \" P:\", boroughs[3].num_P, \" Z:\", boroughs[3].num_Z, \" N:\", boroughs[3].num_N)\n",
        "print(\"Staten Island - A:\", boroughs[4].num_A, \" B:\", boroughs[4].num_B,\n",
        "      \" C:\", boroughs[4].num_C, \" P:\", boroughs[4].num_P, \" Z:\", boroughs[4].num_Z, \" N:\", boroughs[4].num_N)\n"
      ],
      "execution_count": 63,
      "outputs": [
        {
          "output_type": "stream",
          "text": [
            "NUMBER OF EACH GRADE GIVEN\n",
            "Brooklyn - A: 8151  B: 1089  C: 323  P: 164  Z: 224  N: 90\n",
            "Manhattan - A: 13006  B: 1571  C: 509  P: 189  Z: 283  N: 89\n",
            "Queens - A: 7649  B: 932  C: 265  P: 145  Z: 216  N: 80\n",
            "Bronx - A: 2947  B: 450  C: 123  P: 44  Z: 92  N: 19\n",
            "Staten Island - A: 1147  B: 154  C: 35  P: 13  Z: 20  N: 13\n"
          ],
          "name": "stdout"
        }
      ]
    },
    {
      "cell_type": "markdown",
      "metadata": {
        "id": "DWNgJMlVdjUe",
        "colab_type": "text"
      },
      "source": [
        "Total inspection scores and find average for each borough"
      ]
    },
    {
      "cell_type": "code",
      "metadata": {
        "id": "PzjccbCMdj8Q",
        "colab_type": "code",
        "colab": {}
      },
      "source": [
        ""
      ],
      "execution_count": 0,
      "outputs": []
    },
    {
      "cell_type": "markdown",
      "metadata": {
        "id": "LBsTuh41d0YC",
        "colab_type": "text"
      },
      "source": [
        "`reduce()` is employed to add the total number of violations . Then we divide by number of restaurants, using `map()`  to do this for each borough"
      ]
    },
    {
      "cell_type": "code",
      "metadata": {
        "id": "FAq2-c_Bd1Dv",
        "colab_type": "code",
        "colab": {}
      },
      "source": [
        ""
      ],
      "execution_count": 0,
      "outputs": []
    },
    {
      "cell_type": "markdown",
      "metadata": {
        "id": "ow0LNeJ0VVwE",
        "colab_type": "text"
      },
      "source": [
        "It was a challenge for me to break out of the object-oriented way of thinking. In writing the code, I felt like I was iterating through the original dataset many more times than I would have if I'd followed a programming style that I was more familiar with.  I found myself breaking the flow of the program into more numerous, yet admittedly more succinct, parts in order to fulfill the spec."
      ]
    }
  ]
}