{
  "nbformat": 4,
  "nbformat_minor": 0,
  "metadata": {
    "colab": {
      "name": "CISC3140_Midterm_Notebook_2.ipynb",
      "version": "0.3.2",
      "provenance": [],
      "collapsed_sections": [],
      "include_colab_link": true
    },
    "kernelspec": {
      "name": "python3",
      "display_name": "Python 3"
    }
  },
  "cells": [
    {
      "cell_type": "markdown",
      "metadata": {
        "id": "view-in-github",
        "colab_type": "text"
      },
      "source": [
        "<a href=\"https://colab.research.google.com/github/dirtydupe/cisc_3140_Midterm/blob/master/CISC3140_Midterm_Notebook_2.ipynb\" target=\"_parent\"><img src=\"https://colab.research.google.com/assets/colab-badge.svg\" alt=\"Open In Colab\"/></a>"
      ]
    },
    {
      "cell_type": "markdown",
      "metadata": {
        "id": "n18xJNSvddmS",
        "colab_type": "text"
      },
      "source": [
        "# Joe Troia - Notebook 2\n",
        "\n",
        "This notebook will focus on scraping data with Python using BeautifulSoup.\n",
        "\n",
        "The page we will be scraping is the Brooklyn College Computer and Information Science News page at: \n",
        "http://www.brooklyn.cuny.edu/web/academics/schools/naturalsciences/departments/computers/news.php\n",
        "\n",
        "*Directions:*\n",
        "* Extract each headline title and date. You can save it in any data structure such as 2 lists, nested list, or dictionary, or list of dictionaries. Your grade won’t be impacted by the data structure selected. Articulate your reasoning for what  you chose and show an example of the element(s). \n",
        "*Reverse the order of the titles/dates shown so that it is in chronological order, as in the oldest news first and most recent last. You can just show the output of Python code.\n"
      ]
    },
    {
      "cell_type": "markdown",
      "metadata": {
        "id": "HVYNfz3md_wN",
        "colab_type": "text"
      },
      "source": [
        "Importing required libraries"
      ]
    },
    {
      "cell_type": "code",
      "metadata": {
        "id": "jcc3uVRydVbz",
        "colab_type": "code",
        "colab": {}
      },
      "source": [
        "import requests\n",
        "from bs4 import BeautifulSoup"
      ],
      "execution_count": 0,
      "outputs": []
    },
    {
      "cell_type": "markdown",
      "metadata": {
        "id": "CoNFYEJ2gZl-",
        "colab_type": "text"
      },
      "source": [
        "Import URL"
      ]
    },
    {
      "cell_type": "code",
      "metadata": {
        "id": "jzZNqGzSgaCT",
        "colab_type": "code",
        "colab": {}
      },
      "source": [
        "url = \"http://www.brooklyn.cuny.edu/web/academics/schools/naturalsciences/departments/computers/news.php\""
      ],
      "execution_count": 0,
      "outputs": []
    },
    {
      "cell_type": "markdown",
      "metadata": {
        "id": "u7RoONA4kYa6",
        "colab_type": "text"
      },
      "source": [
        "Get the page and store in `Response` object then use `BeautifulSoup()` to parse, storing that `Response` object in `soup`"
      ]
    },
    {
      "cell_type": "code",
      "metadata": {
        "id": "jByS1PR7kYyZ",
        "colab_type": "code",
        "colab": {}
      },
      "source": [
        "page = requests.get(url)\n",
        "soup = BeautifulSoup(page.text, \"html.parser\")"
      ],
      "execution_count": 0,
      "outputs": []
    },
    {
      "cell_type": "markdown",
      "metadata": {
        "id": "47VLjIPUoRdM",
        "colab_type": "text"
      },
      "source": [
        "Parsing out the article dates using list comprehension to make a list of dates"
      ]
    },
    {
      "cell_type": "code",
      "metadata": {
        "id": "AvuhQY7qoR9-",
        "colab_type": "code",
        "outputId": "83c06676-bd37-4874-de50-5598c067c8f6",
        "colab": {
          "base_uri": "https://localhost:8080/",
          "height": 175
        }
      },
      "source": [
        "dates = soup.find_all(\"span\", class_=\"date\")\n",
        "dates = [d.text for d in dates]\n",
        "\n",
        "for d in dates:\n",
        "    print(d)"
      ],
      "execution_count": 0,
      "outputs": [
        {
          "output_type": "stream",
          "text": [
            "May 9, 2019\n",
            "April 14, 2019\n",
            "Feb. 15, 2019\n",
            "Oct. 2, 2018\n",
            "Sept. 24, 2018\n",
            "Aug. 29, 2018\n",
            "June 15, 2018\n",
            "June 5, 2018\n",
            "June 1, 2018\n"
          ],
          "name": "stdout"
        }
      ]
    },
    {
      "cell_type": "markdown",
      "metadata": {
        "id": "3EkmyM_qGFcw",
        "colab_type": "text"
      },
      "source": [
        "Parsing out the article titles and using list comprehension to make a list of titles"
      ]
    },
    {
      "cell_type": "code",
      "metadata": {
        "id": "htF28z9Un1yZ",
        "colab_type": "code",
        "outputId": "a93908aa-b114-4c90-af56-410873b420ea",
        "colab": {
          "base_uri": "https://localhost:8080/",
          "height": 175
        }
      },
      "source": [
        "titles = soup.findAll(\"h2\")\n",
        "titles = [t.text for t in titles]\n",
        "\n",
        "for t in titles:\n",
        "    print(t)"
      ],
      "execution_count": 0,
      "outputs": [
        {
          "output_type": "stream",
          "text": [
            "Two CIS Students Are Winners on Science Day \n",
            "2019 Google Tech Challenge\n",
            "CIS Professor Rivka Levitan Awarded $500,000 NSF CAREER Award to Study Entrainment\n",
            "CIS Professor Michael Mandel Awarded $500,000 NSF Grant To Explore How Man-made Sounds and Climate Change Affect Animal Migration\n",
            "Sign up for CS Club\n",
            "PicatSAT Wins Gold, Silver, and Two Bronze\n",
            "Developing a Serious Game to Reinforce Introductory Programming Concepts\n",
            "Student Achievements\n",
            "Michael Mandel Receives National Science Foundation Award\n"
          ],
          "name": "stdout"
        }
      ]
    },
    {
      "cell_type": "markdown",
      "metadata": {
        "id": "1plO0YrhK7On",
        "colab_type": "text"
      },
      "source": [
        "Now we have two lists which can be joined into one. The indicies of each list correstpond with one another so it will be easy to link date to title.\n",
        "* First reverse each list with the `[::-1]` slicing operator"
      ]
    },
    {
      "cell_type": "code",
      "metadata": {
        "id": "Rxw9Pnb2K5qy",
        "colab_type": "code",
        "outputId": "c001e0bf-0f0b-49db-d1e2-98c3d6f33b52",
        "colab": {
          "base_uri": "https://localhost:8080/",
          "height": 334
        }
      },
      "source": [
        "dates = dates[::-1]\n",
        "titles = titles[::-1]\n",
        "\n",
        "for d in dates:\n",
        "    print(d)\n",
        "    \n",
        "for t in titles:\n",
        "    print(t)"
      ],
      "execution_count": 0,
      "outputs": [
        {
          "output_type": "stream",
          "text": [
            "June 1, 2018\n",
            "June 5, 2018\n",
            "June 15, 2018\n",
            "Aug. 29, 2018\n",
            "Sept. 24, 2018\n",
            "Oct. 2, 2018\n",
            "Feb. 15, 2019\n",
            "April 14, 2019\n",
            "May 9, 2019\n",
            "Michael Mandel Receives National Science Foundation Award\n",
            "Student Achievements\n",
            "Developing a Serious Game to Reinforce Introductory Programming Concepts\n",
            "PicatSAT Wins Gold, Silver, and Two Bronze\n",
            "Sign up for CS Club\n",
            "CIS Professor Michael Mandel Awarded $500,000 NSF Grant To Explore How Man-made Sounds and Climate Change Affect Animal Migration\n",
            "CIS Professor Rivka Levitan Awarded $500,000 NSF CAREER Award to Study Entrainment\n",
            "2019 Google Tech Challenge\n",
            "Two CIS Students Are Winners on Science Day \n"
          ],
          "name": "stdout"
        }
      ]
    },
    {
      "cell_type": "markdown",
      "metadata": {
        "id": "BaLEXIZ_az5x",
        "colab_type": "text"
      },
      "source": [
        "* Combine the lists and display the list of articles in chronological order\n",
        "  * A while loop is used to iterate through the elements of the list. Each pair is inserted into a sub-list, then that pair is appended to the combined list"
      ]
    },
    {
      "cell_type": "code",
      "metadata": {
        "id": "Z4s3KmaDa0Pm",
        "colab_type": "code",
        "outputId": "7300d601-e792-4966-b7ec-c72d7349ecd5",
        "colab": {
          "base_uri": "https://localhost:8080/",
          "height": 175
        }
      },
      "source": [
        "combined = []\n",
        "i = 0\n",
        "\n",
        "while i < len(dates):\n",
        "    sublist = []\n",
        "    sublist.append(dates[i])\n",
        "    sublist.append(titles[i])\n",
        "    combined.append(sublist)\n",
        "    i +=1\n",
        "    \n",
        "for a in combined:\n",
        "    print(a)"
      ],
      "execution_count": 0,
      "outputs": [
        {
          "output_type": "stream",
          "text": [
            "['June 1, 2018', 'Michael Mandel Receives National Science Foundation Award']\n",
            "['June 5, 2018', 'Student Achievements']\n",
            "['June 15, 2018', 'Developing a Serious Game to Reinforce Introductory Programming Concepts']\n",
            "['Aug. 29, 2018', 'PicatSAT Wins Gold, Silver, and Two Bronze']\n",
            "['Sept. 24, 2018', 'Sign up for CS Club']\n",
            "['Oct. 2, 2018', 'CIS Professor Michael Mandel Awarded $500,000 NSF Grant To Explore How Man-made Sounds and Climate Change Affect Animal Migration']\n",
            "['Feb. 15, 2019', 'CIS Professor Rivka Levitan Awarded $500,000 NSF CAREER Award to Study Entrainment']\n",
            "['April 14, 2019', '2019 Google Tech Challenge']\n",
            "['May 9, 2019', 'Two CIS Students Are Winners on Science Day ']\n"
          ],
          "name": "stdout"
        }
      ]
    }
  ]
}